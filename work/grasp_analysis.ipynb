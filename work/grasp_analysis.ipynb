{
 "cells": [
  {
   "cell_type": "code",
   "execution_count": 1,
   "id": "f72fdfda-b23e-4b04-ba75-1229d2f3b03c",
   "metadata": {},
   "outputs": [],
   "source": [
    "import pandas as pd\n",
    "from filter_utils import filter_exercise, segment_repetitions, calculate_features\n",
    "import matplotlib.pyplot as plt\n",
    "import numpy as np"
   ]
  },
  {
   "cell_type": "code",
   "execution_count": 2,
   "id": "c5a36a78-fcdb-4dac-afa0-5b98ff34eb76",
   "metadata": {},
   "outputs": [],
   "source": [
    "df = pd.read_csv(\"large_small_grasp.csv\")"
   ]
  },
  {
   "cell_type": "code",
   "execution_count": 3,
   "id": "4ad12438-afc6-4e00-8a58-0acc20b4c8e0",
   "metadata": {},
   "outputs": [],
   "source": [
    "large_grasp_df = filter_exercise(df,[0,18])\n",
    "small_grasp_df = filter_exercise(df,[0,19])"
   ]
  },
  {
   "cell_type": "code",
   "execution_count": 4,
   "id": "1041d9d3-da69-4880-b700-10c445728933",
   "metadata": {},
   "outputs": [
    {
     "name": "stdout",
     "output_type": "stream",
     "text": [
      "Found 240 repetitions of large grasps.\n",
      "Found 240 repetitions of small grasps.\n"
     ]
    }
   ],
   "source": [
    "# Segment both large and small grasps\n",
    "large_grasp_reps = segment_repetitions(large_grasp_df, 18)\n",
    "small_grasp_reps = segment_repetitions(small_grasp_df, 19)\n",
    "\n",
    "print(f\"Found {len(large_grasp_reps)} repetitions of large grasps.\")\n",
    "print(f\"Found {len(small_grasp_reps)} repetitions of small grasps.\")"
   ]
  },
  {
   "cell_type": "code",
   "execution_count": 5,
   "id": "175b547e-9718-4bb1-8f7f-5757dd400b24",
   "metadata": {},
   "outputs": [],
   "source": [
    "feature_list = []\n",
    "emg_channels = [str(i) for i in range(12)] # Columns '0' through '11'\n",
    "\n",
    "# Process large grasps\n",
    "for rep in large_grasp_reps:\n",
    "    rep_features = {}\n",
    "    for channel in emg_channels:\n",
    "        # Ensure data is numpy array for calculations\n",
    "        channel_data = rep[channel].to_numpy()\n",
    "        calculated = calculate_features(channel_data)\n",
    "        for feature_name, value in calculated.items():\n",
    "            rep_features[f'ch{channel}_{feature_name}'] = value\n",
    "    \n",
    "    rep_features['label'] = 'large_grasp'\n",
    "    feature_list.append(rep_features)\n",
    "\n",
    "# Process small grasps\n",
    "for rep in small_grasp_reps:\n",
    "    rep_features = {}\n",
    "    for channel in emg_channels:\n",
    "        channel_data = rep[channel].to_numpy()\n",
    "        calculated = calculate_features(channel_data)\n",
    "        for feature_name, value in calculated.items():\n",
    "            rep_features[f'ch{channel}_{feature_name}'] = value\n",
    "            \n",
    "    rep_features['label'] = 'small_grasp'\n",
    "    feature_list.append(rep_features)\n",
    "\n",
    "# Create the final feature dataframe\n",
    "feature_df = pd.DataFrame(feature_list)"
   ]
  },
  {
   "cell_type": "code",
   "execution_count": 6,
   "id": "77b8c684-6411-4f10-862c-4efd8c1d323b",
   "metadata": {},
   "outputs": [],
   "source": [
    "feature_df.to_csv('feature_df.csv',index=False)"
   ]
  }
 ],
 "metadata": {
  "kernelspec": {
   "display_name": "Python 3 (ipykernel)",
   "language": "python",
   "name": "python3"
  },
  "language_info": {
   "codemirror_mode": {
    "name": "ipython",
    "version": 3
   },
   "file_extension": ".py",
   "mimetype": "text/x-python",
   "name": "python",
   "nbconvert_exporter": "python",
   "pygments_lexer": "ipython3",
   "version": "3.11.6"
  }
 },
 "nbformat": 4,
 "nbformat_minor": 5
}
