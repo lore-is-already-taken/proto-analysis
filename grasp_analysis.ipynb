{
 "cells": [
  {
   "cell_type": "code",
   "execution_count": 4,
   "id": "f72fdfda-b23e-4b04-ba75-1229d2f3b03c",
   "metadata": {},
   "outputs": [],
   "source": [
    "import pandas as pd\n",
    "from filter_utlis import filter_exercise\n",
    "import matplotlib.pyplot as plt\n",
    "import numpy as np"
   ]
  },
  {
   "cell_type": "code",
   "execution_count": 10,
   "id": "c5a36a78-fcdb-4dac-afa0-5b98ff34eb76",
   "metadata": {},
   "outputs": [],
   "source": [
    "df = pd.read_csv(\"large_small_grasp.csv\")"
   ]
  },
  {
   "cell_type": "code",
   "execution_count": 12,
   "id": "4ad12438-afc6-4e00-8a58-0acc20b4c8e0",
   "metadata": {},
   "outputs": [],
   "source": [
    "large_grasp_df = filter_exercise(df,[0,18])\n",
    "small_grasp_df = filter_exercise(df,[0,19])"
   ]
  },
  {
   "cell_type": "code",
   "execution_count": 13,
   "id": "d8036e03-f2b6-4083-9911-1465186455a1",
   "metadata": {},
   "outputs": [],
   "source": [
    "def segment_repetitions(df, grasp_label):\n",
    "    \"\"\"Segments a dataframe into a list of individual grasp repetitions.\"\"\"\n",
    "    repetitions = []\n",
    "    # Find the indices where a grasp starts (stimulus changes from 0 to the label)\n",
    "    start_indices = df[(df['stimulus'].shift(1) == 0) & (df['stimulus'] == grasp_label)].index\n",
    "\n",
    "    for start in start_indices:\n",
    "        # Find the end of this specific grasp (when it returns to 0)\n",
    "        end_index_series = df.index[ (df.index > start) & (df['stimulus'] == 0) ]\n",
    "        if not end_index_series.empty:\n",
    "            end = end_index_series[0]\n",
    "            # Extract the window for this single repetition\n",
    "            repetition_df = df.loc[start:end]\n",
    "            repetitions.append(repetition_df)\n",
    "            \n",
    "    return repetitions"
   ]
  },
  {
   "cell_type": "code",
   "execution_count": 14,
   "id": "d4a42e41-0bb2-4ebe-b28f-c1960d251874",
   "metadata": {},
   "outputs": [],
   "source": [
    "def calculate_features(window):\n",
    "    \"\"\"Calculates a dictionary of features for a given signal window.\"\"\"\n",
    "    features = {\n",
    "        'rms': np.sqrt(np.mean(window**2)),\n",
    "        'mav': np.mean(np.abs(window)),\n",
    "        'zc': ((window[:-1] * window[1:]) < 0).sum(), # Requires numpy array conversion\n",
    "        'wl': np.sum(np.abs(np.diff(window)))\n",
    "    }\n",
    "    return features"
   ]
  },
  {
   "cell_type": "code",
   "execution_count": 15,
   "id": "1041d9d3-da69-4880-b700-10c445728933",
   "metadata": {},
   "outputs": [
    {
     "name": "stdout",
     "output_type": "stream",
     "text": [
      "Found 240 repetitions of large grasps.\n",
      "Found 240 repetitions of small grasps.\n"
     ]
    }
   ],
   "source": [
    "# Segment both large and small grasps\n",
    "large_grasp_reps = segment_repetitions(large_grasp_df, 18)\n",
    "small_grasp_reps = segment_repetitions(small_grasp_df, 19)\n",
    "\n",
    "print(f\"Found {len(large_grasp_reps)} repetitions of large grasps.\")\n",
    "print(f\"Found {len(small_grasp_reps)} repetitions of small grasps.\")"
   ]
  },
  {
   "cell_type": "code",
   "execution_count": 16,
   "id": "175b547e-9718-4bb1-8f7f-5757dd400b24",
   "metadata": {},
   "outputs": [],
   "source": [
    "feature_list = []\n",
    "emg_channels = [str(i) for i in range(12)] # Columns '0' through '11'\n",
    "\n",
    "# Process large grasps\n",
    "for rep in large_grasp_reps:\n",
    "    rep_features = {}\n",
    "    for channel in emg_channels:\n",
    "        # Ensure data is numpy array for calculations\n",
    "        channel_data = rep[channel].to_numpy()\n",
    "        calculated = calculate_features(channel_data)\n",
    "        for feature_name, value in calculated.items():\n",
    "            rep_features[f'ch{channel}_{feature_name}'] = value\n",
    "    \n",
    "    rep_features['label'] = 'large_grasp'\n",
    "    feature_list.append(rep_features)\n",
    "\n",
    "# Process small grasps\n",
    "for rep in small_grasp_reps:\n",
    "    rep_features = {}\n",
    "    for channel in emg_channels:\n",
    "        channel_data = rep[channel].to_numpy()\n",
    "        calculated = calculate_features(channel_data)\n",
    "        for feature_name, value in calculated.items():\n",
    "            rep_features[f'ch{channel}_{feature_name}'] = value\n",
    "            \n",
    "    rep_features['label'] = 'small_grasp'\n",
    "    feature_list.append(rep_features)\n",
    "\n",
    "# Create the final feature dataframe\n",
    "feature_df = pd.DataFrame(feature_list)"
   ]
  },
  {
   "cell_type": "code",
   "execution_count": 17,
   "id": "77b8c684-6411-4f10-862c-4efd8c1d323b",
   "metadata": {},
   "outputs": [],
   "source": [
    "feature_df.to_csv('feature_df.csv',index=False)"
   ]
  },
  {
   "cell_type": "code",
   "execution_count": null,
   "id": "4622b97e-7bad-49ae-9fa8-259688e4a062",
   "metadata": {},
   "outputs": [],
   "source": []
  }
 ],
 "metadata": {
  "kernelspec": {
   "display_name": "Python 3 (ipykernel)",
   "language": "python",
   "name": "python3"
  },
  "language_info": {
   "codemirror_mode": {
    "name": "ipython",
    "version": 3
   },
   "file_extension": ".py",
   "mimetype": "text/x-python",
   "name": "python",
   "nbconvert_exporter": "python",
   "pygments_lexer": "ipython3",
   "version": "3.11.6"
  }
 },
 "nbformat": 4,
 "nbformat_minor": 5
}
