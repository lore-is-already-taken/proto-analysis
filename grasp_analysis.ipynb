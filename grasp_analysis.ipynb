{
 "cells": [
  {
   "cell_type": "code",
   "execution_count": 2,
   "id": "f72fdfda-b23e-4b04-ba75-1229d2f3b03c",
   "metadata": {},
   "outputs": [],
   "source": [
    "import pandas as pd\n",
    "from filter_utils import filter_exercise, segment_repetitions, calculate_features\n",
    "import matplotlib.pyplot as plt\n",
    "import numpy as np"
   ]
  },
  {
   "cell_type": "code",
   "execution_count": 3,
   "id": "c5a36a78-fcdb-4dac-afa0-5b98ff34eb76",
   "metadata": {},
   "outputs": [],
   "source": [
    "df = pd.read_csv(\"large_small_grasp.csv\")"
   ]
  },
  {
   "cell_type": "code",
   "execution_count": 4,
   "id": "4ad12438-afc6-4e00-8a58-0acc20b4c8e0",
   "metadata": {},
   "outputs": [
    {
     "name": "stdout",
     "output_type": "stream",
     "text": [
      "8828290\n",
      "8940725\n"
     ]
    }
   ],
   "source": [
    "large_grasp_df = filter_exercise(df,[0,18])\n",
    "small_grasp_df = filter_exercise(df,[0,19])"
   ]
  },
  {
   "cell_type": "code",
   "execution_count": 5,
   "id": "1041d9d3-da69-4880-b700-10c445728933",
   "metadata": {},
   "outputs": [
    {
     "name": "stdout",
     "output_type": "stream",
     "text": [
      "Found 240 repetitions of large grasps.\n",
      "Found 240 repetitions of small grasps.\n"
     ]
    }
   ],
   "source": [
    "# Segment both large and small grasps\n",
    "large_grasp_reps = segment_repetitions(large_grasp_df, 18)\n",
    "small_grasp_reps = segment_repetitions(small_grasp_df, 19)\n",
    "\n",
    "print(f\"Found {len(large_grasp_reps)} repetitions of large grasps.\")\n",
    "print(f\"Found {len(small_grasp_reps)} repetitions of small grasps.\")"
   ]
  },
  {
   "cell_type": "code",
   "execution_count": 6,
   "id": "175b547e-9718-4bb1-8f7f-5757dd400b24",
   "metadata": {},
   "outputs": [
    {
     "ename": "NameError",
     "evalue": "name 'np' is not defined",
     "output_type": "error",
     "traceback": [
      "\u001b[0;31m---------------------------------------------------------------------------\u001b[0m",
      "\u001b[0;31mNameError\u001b[0m                                 Traceback (most recent call last)",
      "Cell \u001b[0;32mIn[6], line 10\u001b[0m\n\u001b[1;32m      7\u001b[0m \u001b[38;5;28;01mfor\u001b[39;00m channel \u001b[38;5;129;01min\u001b[39;00m emg_channels:\n\u001b[1;32m      8\u001b[0m     \u001b[38;5;66;03m# Ensure data is numpy array for calculations\u001b[39;00m\n\u001b[1;32m      9\u001b[0m     channel_data \u001b[38;5;241m=\u001b[39m rep[channel]\u001b[38;5;241m.\u001b[39mto_numpy()\n\u001b[0;32m---> 10\u001b[0m     calculated \u001b[38;5;241m=\u001b[39m \u001b[43mcalculate_features\u001b[49m\u001b[43m(\u001b[49m\u001b[43mchannel_data\u001b[49m\u001b[43m)\u001b[49m\n\u001b[1;32m     11\u001b[0m     \u001b[38;5;28;01mfor\u001b[39;00m feature_name, value \u001b[38;5;129;01min\u001b[39;00m calculated\u001b[38;5;241m.\u001b[39mitems():\n\u001b[1;32m     12\u001b[0m         rep_features[\u001b[38;5;124mf\u001b[39m\u001b[38;5;124m'\u001b[39m\u001b[38;5;124mch\u001b[39m\u001b[38;5;132;01m{\u001b[39;00mchannel\u001b[38;5;132;01m}\u001b[39;00m\u001b[38;5;124m_\u001b[39m\u001b[38;5;132;01m{\u001b[39;00mfeature_name\u001b[38;5;132;01m}\u001b[39;00m\u001b[38;5;124m'\u001b[39m] \u001b[38;5;241m=\u001b[39m value\n",
      "File \u001b[0;32m~/work/proto-analysis/filter_utils.py:97\u001b[0m, in \u001b[0;36mcalculate_features\u001b[0;34m(window)\u001b[0m\n\u001b[1;32m     75\u001b[0m \u001b[38;5;28;01mdef\u001b[39;00m \u001b[38;5;21mcalculate_features\u001b[39m(window):\n\u001b[1;32m     76\u001b[0m \u001b[38;5;250m    \u001b[39m\u001b[38;5;124;03m\"\"\"Computes a set of standard time-domain features for a given signal window.\u001b[39;00m\n\u001b[1;32m     77\u001b[0m \n\u001b[1;32m     78\u001b[0m \u001b[38;5;124;03m    This function is designed to extract key characteristics from a segment of\u001b[39;00m\n\u001b[0;32m   (...)\u001b[0m\n\u001b[1;32m     93\u001b[0m \u001b[38;5;124;03m              - 'wl':  Waveform Length\u001b[39;00m\n\u001b[1;32m     94\u001b[0m \u001b[38;5;124;03m    \"\"\"\u001b[39;00m\n\u001b[1;32m     95\u001b[0m     features \u001b[38;5;241m=\u001b[39m {\n\u001b[1;32m     96\u001b[0m         \u001b[38;5;66;03m# Root Mean Square (RMS): A measure of the signal's power and amplitude.\u001b[39;00m\n\u001b[0;32m---> 97\u001b[0m         \u001b[38;5;124m'\u001b[39m\u001b[38;5;124mrms\u001b[39m\u001b[38;5;124m'\u001b[39m: \u001b[43mnp\u001b[49m\u001b[38;5;241m.\u001b[39msqrt(np\u001b[38;5;241m.\u001b[39mmean(window\u001b[38;5;241m*\u001b[39m\u001b[38;5;241m*\u001b[39m\u001b[38;5;241m2\u001b[39m)),\n\u001b[1;32m     98\u001b[0m \n\u001b[1;32m     99\u001b[0m         \u001b[38;5;66;03m# Mean Absolute Value (MAV): The average of the rectified signal,\u001b[39;00m\n\u001b[1;32m    100\u001b[0m         \u001b[38;5;66;03m# providing a measure of its average amplitude.\u001b[39;00m\n\u001b[1;32m    101\u001b[0m         \u001b[38;5;124m'\u001b[39m\u001b[38;5;124mmav\u001b[39m\u001b[38;5;124m'\u001b[39m: np\u001b[38;5;241m.\u001b[39mmean(np\u001b[38;5;241m.\u001b[39mabs(window)),\n\u001b[1;32m    102\u001b[0m \n\u001b[1;32m    103\u001b[0m         \u001b[38;5;66;03m# Zero Crossing (ZC): The number of times the signal crosses the\u001b[39;00m\n\u001b[1;32m    104\u001b[0m         \u001b[38;5;66;03m# zero-axis. This is an indicator of the signal's frequency.\u001b[39;00m\n\u001b[1;32m    105\u001b[0m         \u001b[38;5;66;03m# The product of adjacent samples will be negative if a zero-crossing occurred.\u001b[39;00m\n\u001b[1;32m    106\u001b[0m         \u001b[38;5;124m'\u001b[39m\u001b[38;5;124mzc\u001b[39m\u001b[38;5;124m'\u001b[39m: ((window[:\u001b[38;5;241m-\u001b[39m\u001b[38;5;241m1\u001b[39m] \u001b[38;5;241m*\u001b[39m window[\u001b[38;5;241m1\u001b[39m:]) \u001b[38;5;241m<\u001b[39m \u001b[38;5;241m0\u001b[39m)\u001b[38;5;241m.\u001b[39msum(),\n\u001b[1;32m    107\u001b[0m \n\u001b[1;32m    108\u001b[0m         \u001b[38;5;66;03m# Waveform Length (WL): The cumulative length of the waveform over the\u001b[39;00m\n\u001b[1;32m    109\u001b[0m         \u001b[38;5;66;03m# time segment, indicating a measure of signal complexity.\u001b[39;00m\n\u001b[1;32m    110\u001b[0m         \u001b[38;5;124m'\u001b[39m\u001b[38;5;124mwl\u001b[39m\u001b[38;5;124m'\u001b[39m: np\u001b[38;5;241m.\u001b[39msum(np\u001b[38;5;241m.\u001b[39mabs(np\u001b[38;5;241m.\u001b[39mdiff(window)))\n\u001b[1;32m    111\u001b[0m     }\n\u001b[1;32m    112\u001b[0m     \u001b[38;5;28;01mreturn\u001b[39;00m features\n",
      "\u001b[0;31mNameError\u001b[0m: name 'np' is not defined"
     ]
    }
   ],
   "source": [
    "feature_list = []\n",
    "emg_channels = [str(i) for i in range(12)] # Columns '0' through '11'\n",
    "\n",
    "# Process large grasps\n",
    "for rep in large_grasp_reps:\n",
    "    rep_features = {}\n",
    "    for channel in emg_channels:\n",
    "        # Ensure data is numpy array for calculations\n",
    "        channel_data = rep[channel].to_numpy()\n",
    "        calculated = calculate_features(channel_data)\n",
    "        for feature_name, value in calculated.items():\n",
    "            rep_features[f'ch{channel}_{feature_name}'] = value\n",
    "    \n",
    "    rep_features['label'] = 'large_grasp'\n",
    "    feature_list.append(rep_features)\n",
    "\n",
    "# Process small grasps\n",
    "for rep in small_grasp_reps:\n",
    "    rep_features = {}\n",
    "    for channel in emg_channels:\n",
    "        channel_data = rep[channel].to_numpy()\n",
    "        calculated = calculate_features(channel_data)\n",
    "        for feature_name, value in calculated.items():\n",
    "            rep_features[f'ch{channel}_{feature_name}'] = value\n",
    "            \n",
    "    rep_features['label'] = 'small_grasp'\n",
    "    feature_list.append(rep_features)\n",
    "\n",
    "# Create the final feature dataframe\n",
    "feature_df = pd.DataFrame(feature_list)"
   ]
  },
  {
   "cell_type": "code",
   "execution_count": 17,
   "id": "77b8c684-6411-4f10-862c-4efd8c1d323b",
   "metadata": {},
   "outputs": [],
   "source": [
    "feature_df.to_csv('feature_df.csv',index=False)"
   ]
  },
  {
   "cell_type": "code",
   "execution_count": null,
   "id": "4622b97e-7bad-49ae-9fa8-259688e4a062",
   "metadata": {},
   "outputs": [],
   "source": []
  }
 ],
 "metadata": {
  "kernelspec": {
   "display_name": "Python 3 (ipykernel)",
   "language": "python",
   "name": "python3"
  },
  "language_info": {
   "codemirror_mode": {
    "name": "ipython",
    "version": 3
   },
   "file_extension": ".py",
   "mimetype": "text/x-python",
   "name": "python",
   "nbconvert_exporter": "python",
   "pygments_lexer": "ipython3",
   "version": "3.11.6"
  }
 },
 "nbformat": 4,
 "nbformat_minor": 5
}
